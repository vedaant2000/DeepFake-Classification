{
 "cells": [
  {
   "cell_type": "code",
   "execution_count": 3,
   "metadata": {},
   "outputs": [],
   "source": [
    "import numpy as np\n",
    "import pandas as pd\n",
    "import tensorflow as tf\n",
    "from sklearn import metrics\n",
    "import matplotlib.pyplot as plt\n",
    "from tensorflow.keras.models import Model, load_model\n",
    "from tensorflow.keras.preprocessing.image import ImageDataGenerator"
   ]
  },
  {
   "cell_type": "code",
   "execution_count": 4,
   "metadata": {},
   "outputs": [],
   "source": [
    "def extract_layer_output(model, layer_name, data):\n",
    "    int_layer_op = model.get_layer(name = layer_name).output\n",
    "    int_layer_model = Model(inputs = model.input, outputs = int_layer_op)\n",
    "    int_layer_model.compile(loss = 'binary_crossentropy', optimizer = 'adam', metrics = ['accuracy'])\n",
    "    return int_layer_model.predict(data)"
   ]
  },
  {
   "cell_type": "code",
   "execution_count": 5,
   "metadata": {},
   "outputs": [],
   "source": [
    "def generate_df(arr, label):\n",
    "    df = pd.DataFrame(arr)\n",
    "    df['label'] = label\n",
    "    return df"
   ]
  },
  {
   "cell_type": "code",
   "execution_count": 6,
   "metadata": {},
   "outputs": [
    {
     "name": "stdout",
     "output_type": "stream",
     "text": [
      "Found 100000 images belonging to 2 classes.\n",
      "Found 20000 images belonging to 2 classes.\n"
     ]
    }
   ],
   "source": [
    "base_path = 'D:\\\\fake-vs-real\\\\real_vs_fake\\\\real-vs-fake\\\\'\n",
    "image_gen = ImageDataGenerator(rescale=1./255.)\n",
    "\n",
    "train_flow = image_gen.flow_from_directory(\n",
    "    base_path + 'train/',\n",
    "    target_size=(224, 224),\n",
    "    batch_size=64,\n",
    "    shuffle=False,\n",
    "    class_mode='binary'\n",
    ")\n",
    "\n",
    "test_flow = image_gen.flow_from_directory(\n",
    "    base_path + 'test/',\n",
    "    target_size=(224, 224),\n",
    "    batch_size=1,\n",
    "    shuffle = False,\n",
    "    class_mode='binary'\n",
    ")"
   ]
  },
  {
   "cell_type": "code",
   "execution_count": 7,
   "metadata": {},
   "outputs": [
    {
     "data": {
      "text/plain": [
       "array([0, 0, 0, ..., 1, 1, 1])"
      ]
     },
     "execution_count": 7,
     "metadata": {},
     "output_type": "execute_result"
    }
   ],
   "source": [
    "y_test = test_flow.classes\n",
    "y_test"
   ]
  },
  {
   "cell_type": "code",
   "execution_count": 8,
   "metadata": {},
   "outputs": [],
   "source": [
    "custom_model = load_model('deep_fake_custom_CNN_model.h5')"
   ]
  },
  {
   "cell_type": "code",
   "execution_count": 10,
   "metadata": {},
   "outputs": [
    {
     "data": {
      "text/plain": [
       "(100000, 1024)"
      ]
     },
     "execution_count": 10,
     "metadata": {},
     "output_type": "execute_result"
    }
   ],
   "source": [
    "int_output_custom = extract_layer_output(custom_model, 'global_average_pooling2d_1', train_flow)\n",
    "int_output_custom.shape"
   ]
  },
  {
   "cell_type": "code",
   "execution_count": 11,
   "metadata": {},
   "outputs": [
    {
     "data": {
      "text/html": [
       "<div>\n",
       "<style scoped>\n",
       "    .dataframe tbody tr th:only-of-type {\n",
       "        vertical-align: middle;\n",
       "    }\n",
       "\n",
       "    .dataframe tbody tr th {\n",
       "        vertical-align: top;\n",
       "    }\n",
       "\n",
       "    .dataframe thead th {\n",
       "        text-align: right;\n",
       "    }\n",
       "</style>\n",
       "<table border=\"1\" class=\"dataframe\">\n",
       "  <thead>\n",
       "    <tr style=\"text-align: right;\">\n",
       "      <th></th>\n",
       "      <th>0</th>\n",
       "      <th>1</th>\n",
       "      <th>2</th>\n",
       "      <th>3</th>\n",
       "      <th>4</th>\n",
       "      <th>5</th>\n",
       "      <th>6</th>\n",
       "      <th>7</th>\n",
       "      <th>8</th>\n",
       "      <th>9</th>\n",
       "      <th>...</th>\n",
       "      <th>1015</th>\n",
       "      <th>1016</th>\n",
       "      <th>1017</th>\n",
       "      <th>1018</th>\n",
       "      <th>1019</th>\n",
       "      <th>1020</th>\n",
       "      <th>1021</th>\n",
       "      <th>1022</th>\n",
       "      <th>1023</th>\n",
       "      <th>label</th>\n",
       "    </tr>\n",
       "  </thead>\n",
       "  <tbody>\n",
       "    <tr>\n",
       "      <th>0</th>\n",
       "      <td>-0.102400</td>\n",
       "      <td>0.101428</td>\n",
       "      <td>0.235823</td>\n",
       "      <td>-0.215722</td>\n",
       "      <td>-0.044314</td>\n",
       "      <td>-0.043952</td>\n",
       "      <td>0.459600</td>\n",
       "      <td>-0.260262</td>\n",
       "      <td>-0.372854</td>\n",
       "      <td>0.151030</td>\n",
       "      <td>...</td>\n",
       "      <td>0.095684</td>\n",
       "      <td>0.208616</td>\n",
       "      <td>0.759955</td>\n",
       "      <td>0.633904</td>\n",
       "      <td>-0.610727</td>\n",
       "      <td>-0.174793</td>\n",
       "      <td>-0.246132</td>\n",
       "      <td>0.655625</td>\n",
       "      <td>-0.235347</td>\n",
       "      <td>0</td>\n",
       "    </tr>\n",
       "    <tr>\n",
       "      <th>1</th>\n",
       "      <td>0.026694</td>\n",
       "      <td>-0.498493</td>\n",
       "      <td>0.239279</td>\n",
       "      <td>-0.154200</td>\n",
       "      <td>-0.631037</td>\n",
       "      <td>0.502552</td>\n",
       "      <td>-0.144780</td>\n",
       "      <td>-0.090217</td>\n",
       "      <td>-0.004471</td>\n",
       "      <td>-0.419060</td>\n",
       "      <td>...</td>\n",
       "      <td>-0.565320</td>\n",
       "      <td>-0.437589</td>\n",
       "      <td>-0.259084</td>\n",
       "      <td>-0.017838</td>\n",
       "      <td>-0.152009</td>\n",
       "      <td>-0.474074</td>\n",
       "      <td>0.631287</td>\n",
       "      <td>-0.277794</td>\n",
       "      <td>-0.515764</td>\n",
       "      <td>0</td>\n",
       "    </tr>\n",
       "    <tr>\n",
       "      <th>2</th>\n",
       "      <td>-0.206004</td>\n",
       "      <td>-0.353236</td>\n",
       "      <td>-0.489914</td>\n",
       "      <td>-0.470469</td>\n",
       "      <td>0.137303</td>\n",
       "      <td>0.268092</td>\n",
       "      <td>0.357659</td>\n",
       "      <td>0.876869</td>\n",
       "      <td>0.223182</td>\n",
       "      <td>-0.105941</td>\n",
       "      <td>...</td>\n",
       "      <td>-0.459861</td>\n",
       "      <td>0.037206</td>\n",
       "      <td>-0.039159</td>\n",
       "      <td>0.431013</td>\n",
       "      <td>-0.061638</td>\n",
       "      <td>-0.395189</td>\n",
       "      <td>-0.000422</td>\n",
       "      <td>0.032739</td>\n",
       "      <td>0.060721</td>\n",
       "      <td>0</td>\n",
       "    </tr>\n",
       "    <tr>\n",
       "      <th>3</th>\n",
       "      <td>0.183939</td>\n",
       "      <td>-0.538174</td>\n",
       "      <td>-0.230662</td>\n",
       "      <td>-0.514412</td>\n",
       "      <td>0.211349</td>\n",
       "      <td>-0.305276</td>\n",
       "      <td>-0.117885</td>\n",
       "      <td>0.039673</td>\n",
       "      <td>-0.361994</td>\n",
       "      <td>-0.310106</td>\n",
       "      <td>...</td>\n",
       "      <td>-0.198161</td>\n",
       "      <td>-0.094567</td>\n",
       "      <td>-0.370660</td>\n",
       "      <td>0.029272</td>\n",
       "      <td>-0.691627</td>\n",
       "      <td>-0.696342</td>\n",
       "      <td>0.133271</td>\n",
       "      <td>0.121235</td>\n",
       "      <td>-0.119125</td>\n",
       "      <td>0</td>\n",
       "    </tr>\n",
       "    <tr>\n",
       "      <th>4</th>\n",
       "      <td>-0.515688</td>\n",
       "      <td>-0.361801</td>\n",
       "      <td>0.049795</td>\n",
       "      <td>0.130015</td>\n",
       "      <td>-0.350609</td>\n",
       "      <td>0.470957</td>\n",
       "      <td>0.004543</td>\n",
       "      <td>0.278675</td>\n",
       "      <td>-0.018741</td>\n",
       "      <td>0.308987</td>\n",
       "      <td>...</td>\n",
       "      <td>-0.072855</td>\n",
       "      <td>-0.049746</td>\n",
       "      <td>-0.635361</td>\n",
       "      <td>-0.214580</td>\n",
       "      <td>-0.275176</td>\n",
       "      <td>-0.740658</td>\n",
       "      <td>0.809420</td>\n",
       "      <td>0.300907</td>\n",
       "      <td>-0.012254</td>\n",
       "      <td>0</td>\n",
       "    </tr>\n",
       "  </tbody>\n",
       "</table>\n",
       "<p>5 rows × 1025 columns</p>\n",
       "</div>"
      ],
      "text/plain": [
       "          0         1         2         3         4         5         6  \\\n",
       "0 -0.102400  0.101428  0.235823 -0.215722 -0.044314 -0.043952  0.459600   \n",
       "1  0.026694 -0.498493  0.239279 -0.154200 -0.631037  0.502552 -0.144780   \n",
       "2 -0.206004 -0.353236 -0.489914 -0.470469  0.137303  0.268092  0.357659   \n",
       "3  0.183939 -0.538174 -0.230662 -0.514412  0.211349 -0.305276 -0.117885   \n",
       "4 -0.515688 -0.361801  0.049795  0.130015 -0.350609  0.470957  0.004543   \n",
       "\n",
       "          7         8         9  ...      1015      1016      1017      1018  \\\n",
       "0 -0.260262 -0.372854  0.151030  ...  0.095684  0.208616  0.759955  0.633904   \n",
       "1 -0.090217 -0.004471 -0.419060  ... -0.565320 -0.437589 -0.259084 -0.017838   \n",
       "2  0.876869  0.223182 -0.105941  ... -0.459861  0.037206 -0.039159  0.431013   \n",
       "3  0.039673 -0.361994 -0.310106  ... -0.198161 -0.094567 -0.370660  0.029272   \n",
       "4  0.278675 -0.018741  0.308987  ... -0.072855 -0.049746 -0.635361 -0.214580   \n",
       "\n",
       "       1019      1020      1021      1022      1023  label  \n",
       "0 -0.610727 -0.174793 -0.246132  0.655625 -0.235347      0  \n",
       "1 -0.152009 -0.474074  0.631287 -0.277794 -0.515764      0  \n",
       "2 -0.061638 -0.395189 -0.000422  0.032739  0.060721      0  \n",
       "3 -0.691627 -0.696342  0.133271  0.121235 -0.119125      0  \n",
       "4 -0.275176 -0.740658  0.809420  0.300907 -0.012254      0  \n",
       "\n",
       "[5 rows x 1025 columns]"
      ]
     },
     "execution_count": 11,
     "metadata": {},
     "output_type": "execute_result"
    }
   ],
   "source": [
    "int_output_custom = generate_df(int_output_custom, train_flow.classes)\n",
    "int_output_custom.head()"
   ]
  },
  {
   "cell_type": "code",
   "execution_count": 12,
   "metadata": {},
   "outputs": [],
   "source": [
    "int_output_custom.to_csv('custom_model.csv', index = False)"
   ]
  },
  {
   "cell_type": "code",
   "execution_count": 13,
   "metadata": {},
   "outputs": [],
   "source": [
    "y_pred_custom = custom_model.predict(test_flow)"
   ]
  },
  {
   "cell_type": "code",
   "execution_count": 14,
   "metadata": {},
   "outputs": [
    {
     "name": "stdout",
     "output_type": "stream",
     "text": [
      "ROC AUC Score: 0.9885498899999999\n",
      "Average Precision Score: 0.9874157360683484\n",
      "\n",
      "              precision    recall  f1-score   support\n",
      "\n",
      "           0       0.86      0.98      0.92     10000\n",
      "           1       0.98      0.84      0.90     10000\n",
      "\n",
      "    accuracy                           0.91     20000\n",
      "   macro avg       0.92      0.91      0.91     20000\n",
      "weighted avg       0.92      0.91      0.91     20000\n",
      "\n"
     ]
    }
   ],
   "source": [
    "print(\"ROC AUC Score:\", metrics.roc_auc_score(y_test, y_pred_custom))\n",
    "print(\"Average Precision Score:\", metrics.average_precision_score(y_test, y_pred_custom))\n",
    "print()\n",
    "print(metrics.classification_report(y_test, y_pred_custom > 0.5))"
   ]
  },
  {
   "cell_type": "code",
   "execution_count": null,
   "metadata": {},
   "outputs": [],
   "source": []
  }
 ],
 "metadata": {
  "kernelspec": {
   "display_name": "Python 3",
   "language": "python",
   "name": "python3"
  },
  "language_info": {
   "codemirror_mode": {
    "name": "ipython",
    "version": 3
   },
   "file_extension": ".py",
   "mimetype": "text/x-python",
   "name": "python",
   "nbconvert_exporter": "python",
   "pygments_lexer": "ipython3",
   "version": "3.8.8"
  }
 },
 "nbformat": 4,
 "nbformat_minor": 4
}
